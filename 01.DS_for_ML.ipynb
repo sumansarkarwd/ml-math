{
  "cells": [
    {
      "cell_type": "markdown",
      "metadata": {
        "colab_type": "text",
        "id": "view-in-github"
      },
      "source": [
        "<a href=\"https://colab.research.google.com/github/sumansarkarwd/ml-math/blob/main/ML_Math.ipynb\" target=\"_parent\"><img src=\"https://colab.research.google.com/assets/colab-badge.svg\" alt=\"Open In Colab\"/></a>"
      ]
    },
    {
      "cell_type": "markdown",
      "metadata": {
        "id": "HWPMAoLhfINc"
      },
      "source": [
        "# Tensors\n",
        "1. Scalar -> x -> 0 dimension -> Magnitude only\n",
        "2. Vector -> [x1, x2, x3] -> 1 dimension -> 0\n",
        "3. Matrix -> [[x1, x2], [x3, x4]] -> 2 dimensions -> 0\n",
        "4. 3-tensor -> 3 dimensions -> 3d table\n",
        "5. n-tensors -> n dimensions -> higher dimensions "
      ]
    },
    {
      "cell_type": "markdown",
      "metadata": {
        "id": "bxOExaFWhO7i"
      },
      "source": [
        "# Scalers in PyTorch"
      ]
    },
    {
      "cell_type": "code",
      "execution_count": 2,
      "metadata": {
        "id": "JfEDjKqIhSq3"
      },
      "outputs": [],
      "source": [
        "import torch\n",
        "import numpy as np\n",
        "import tensorflow as tf"
      ]
    },
    {
      "cell_type": "code",
      "execution_count": 2,
      "metadata": {
        "colab": {
          "base_uri": "https://localhost:8080/"
        },
        "id": "aUiMsm_0hYGd",
        "outputId": "0acde16b-03f8-4c51-97e9-a6787b859e44"
      },
      "outputs": [
        {
          "data": {
            "text/plain": [
              "tensor(25)"
            ]
          },
          "execution_count": 2,
          "metadata": {},
          "output_type": "execute_result"
        }
      ],
      "source": [
        "x_pt = torch.tensor(25)\n",
        "x_pt"
      ]
    },
    {
      "cell_type": "code",
      "execution_count": 3,
      "metadata": {
        "colab": {
          "base_uri": "https://localhost:8080/"
        },
        "id": "HHfMtrslh0Ak",
        "outputId": "39be51b3-514e-42ca-bba2-ad220d5961b4"
      },
      "outputs": [
        {
          "data": {
            "text/plain": [
              "torch.Size([])"
            ]
          },
          "execution_count": 3,
          "metadata": {},
          "output_type": "execute_result"
        }
      ],
      "source": [
        "x_pt.shape # a scalar with 0 dimensions"
      ]
    },
    {
      "cell_type": "markdown",
      "metadata": {
        "id": "rTPHr9BUib7b"
      },
      "source": [
        "# Scalers in Tensorflow"
      ]
    },
    {
      "cell_type": "code",
      "execution_count": 39,
      "metadata": {
        "colab": {
          "base_uri": "https://localhost:8080/"
        },
        "id": "v8GuxNrIikwS",
        "outputId": "ff95016f-4ba8-45c3-93e3-278f0eecbde2"
      },
      "outputs": [
        {
          "data": {
            "text/plain": [
              "<tf.Variable 'Variable:0' shape=() dtype=int32, numpy=25>"
            ]
          },
          "execution_count": 39,
          "metadata": {},
          "output_type": "execute_result"
        }
      ],
      "source": [
        "x_tf = tf.Variable(25)\n",
        "x_tf"
      ]
    },
    {
      "cell_type": "code",
      "execution_count": 6,
      "metadata": {
        "colab": {
          "base_uri": "https://localhost:8080/"
        },
        "id": "K9VfHKREirgg",
        "outputId": "454786bd-e494-469b-9677-7d0c422f3c7f"
      },
      "outputs": [
        {
          "data": {
            "text/plain": [
              "TensorShape([])"
            ]
          },
          "execution_count": 6,
          "metadata": {},
          "output_type": "execute_result"
        }
      ],
      "source": [
        "x_tf.shape # a scalar with 0 dimensions"
      ]
    },
    {
      "cell_type": "code",
      "execution_count": 7,
      "metadata": {
        "colab": {
          "base_uri": "https://localhost:8080/"
        },
        "id": "EoNsYvQljINT",
        "outputId": "a606f701-f0cc-486a-aa0d-56b6d3823905"
      },
      "outputs": [
        {
          "data": {
            "text/plain": [
              "<tf.Variable 'Variable:0' shape=() dtype=int32, numpy=20>"
            ]
          },
          "execution_count": 7,
          "metadata": {},
          "output_type": "execute_result"
        }
      ],
      "source": [
        "y_tf = tf.Variable(20)\n",
        "y_tf"
      ]
    },
    {
      "cell_type": "code",
      "execution_count": 8,
      "metadata": {
        "colab": {
          "base_uri": "https://localhost:8080/"
        },
        "id": "ZIkWxrK-jzR_",
        "outputId": "eacc4f3f-1528-4b15-dc24-9a71ae974edf"
      },
      "outputs": [
        {
          "data": {
            "text/plain": [
              "<tf.Tensor: shape=(), dtype=int32, numpy=45>"
            ]
          },
          "execution_count": 8,
          "metadata": {},
          "output_type": "execute_result"
        }
      ],
      "source": [
        "x_tf + y_tf"
      ]
    },
    {
      "cell_type": "code",
      "execution_count": 9,
      "metadata": {
        "colab": {
          "base_uri": "https://localhost:8080/"
        },
        "id": "lQOHf2RRj3o5",
        "outputId": "e15599d8-e12f-402b-81b6-93f01c487f70"
      },
      "outputs": [
        {
          "data": {
            "text/plain": [
              "<tf.Tensor: shape=(), dtype=int32, numpy=45>"
            ]
          },
          "execution_count": 9,
          "metadata": {},
          "output_type": "execute_result"
        }
      ],
      "source": [
        "sum = tf.add(x_tf, y_tf)\n",
        "sum"
      ]
    },
    {
      "cell_type": "code",
      "execution_count": 10,
      "metadata": {
        "colab": {
          "base_uri": "https://localhost:8080/"
        },
        "id": "h5hDZNjfkX_S",
        "outputId": "d235316a-fedb-4aec-d496-27b83779a36a"
      },
      "outputs": [
        {
          "data": {
            "text/plain": [
              "45"
            ]
          },
          "execution_count": 10,
          "metadata": {},
          "output_type": "execute_result"
        }
      ],
      "source": [
        "sum.numpy()"
      ]
    },
    {
      "cell_type": "code",
      "execution_count": 11,
      "metadata": {
        "colab": {
          "base_uri": "https://localhost:8080/"
        },
        "id": "KBbB_IxIkaCM",
        "outputId": "2f726326-25d4-4a32-8513-95af857e175b"
      },
      "outputs": [
        {
          "data": {
            "text/plain": [
              "numpy.int32"
            ]
          },
          "execution_count": 11,
          "metadata": {},
          "output_type": "execute_result"
        }
      ],
      "source": [
        "type(sum.numpy())"
      ]
    },
    {
      "cell_type": "markdown",
      "metadata": {
        "id": "pj8OKotXlVhi"
      },
      "source": [
        "# Vectors\n",
        "1. Vectors are 1-dimensional arrays of scalars. They represent a point in space.\n",
        "2. Vectors of length 2 represents a point in a 2d-matrix\n",
        "3. Vectors of length 3 represents a location in a qube\n",
        "4. Vectors of n represents a point location in n dimensions\n",
        "\n",
        "### Vector Transposition\n",
        "![image.png](data:image/png;base64,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)"
      ]
    },
    {
      "cell_type": "markdown",
      "metadata": {
        "id": "Un-ND0uLmufm"
      },
      "source": [
        "# Vectors using Numpy"
      ]
    },
    {
      "cell_type": "code",
      "execution_count": 13,
      "metadata": {
        "colab": {
          "base_uri": "https://localhost:8080/"
        },
        "id": "smoucPPXpJI8",
        "outputId": "5d230aa6-d700-47df-969c-4b82c385aaba"
      },
      "outputs": [
        {
          "data": {
            "text/plain": [
              "array([1, 2, 3])"
            ]
          },
          "execution_count": 13,
          "metadata": {},
          "output_type": "execute_result"
        }
      ],
      "source": [
        "x = np.array([1,2,3])\n",
        "x"
      ]
    },
    {
      "cell_type": "code",
      "execution_count": 14,
      "metadata": {
        "colab": {
          "base_uri": "https://localhost:8080/"
        },
        "id": "-pOPLGdypQLS",
        "outputId": "cf7ef96f-0b73-4b42-dc9a-e1984fb6111c"
      },
      "outputs": [
        {
          "data": {
            "text/plain": [
              "(3,)"
            ]
          },
          "execution_count": 14,
          "metadata": {},
          "output_type": "execute_result"
        }
      ],
      "source": [
        "x.shape"
      ]
    },
    {
      "cell_type": "code",
      "execution_count": 15,
      "metadata": {
        "colab": {
          "base_uri": "https://localhost:8080/"
        },
        "id": "qDQrr0bUpVu_",
        "outputId": "c6eb51ce-2887-42ed-f58e-56dadb330b8d"
      },
      "outputs": [
        {
          "data": {
            "text/plain": [
              "3"
            ]
          },
          "execution_count": 15,
          "metadata": {},
          "output_type": "execute_result"
        }
      ],
      "source": [
        "len(x)"
      ]
    },
    {
      "cell_type": "code",
      "execution_count": 16,
      "metadata": {
        "colab": {
          "base_uri": "https://localhost:8080/"
        },
        "id": "9DyDc92PpXA7",
        "outputId": "91450410-358e-4c1c-95a8-c8c74364c493"
      },
      "outputs": [
        {
          "data": {
            "text/plain": [
              "numpy.ndarray"
            ]
          },
          "execution_count": 16,
          "metadata": {},
          "output_type": "execute_result"
        }
      ],
      "source": [
        "type(x)"
      ]
    },
    {
      "cell_type": "code",
      "execution_count": 17,
      "metadata": {
        "colab": {
          "base_uri": "https://localhost:8080/"
        },
        "id": "b0M7wI28pYbY",
        "outputId": "7771ad99-20be-4c44-8d83-0eeb86fcfb24"
      },
      "outputs": [
        {
          "data": {
            "text/plain": [
              "1"
            ]
          },
          "execution_count": 17,
          "metadata": {},
          "output_type": "execute_result"
        }
      ],
      "source": [
        "x[0]"
      ]
    },
    {
      "cell_type": "code",
      "execution_count": 18,
      "metadata": {
        "colab": {
          "base_uri": "https://localhost:8080/"
        },
        "id": "Brs_N7uGpaFT",
        "outputId": "bd6fbbb2-2811-4d69-a00d-be5b700d72da"
      },
      "outputs": [
        {
          "data": {
            "text/plain": [
              "numpy.int64"
            ]
          },
          "execution_count": 18,
          "metadata": {},
          "output_type": "execute_result"
        }
      ],
      "source": [
        "type(x[0])"
      ]
    },
    {
      "cell_type": "markdown",
      "metadata": {
        "id": "T5NG-PPqp6jE"
      },
      "source": [
        "Transposing"
      ]
    },
    {
      "cell_type": "code",
      "execution_count": 19,
      "metadata": {
        "colab": {
          "base_uri": "https://localhost:8080/"
        },
        "id": "9gg3h5F9p8b4",
        "outputId": "9db061ab-937d-461c-dc0e-80d701f27c50"
      },
      "outputs": [
        {
          "data": {
            "text/plain": [
              "array([1, 2, 3])"
            ]
          },
          "execution_count": 19,
          "metadata": {},
          "output_type": "execute_result"
        }
      ],
      "source": [
        "x_t = x.T\n",
        "x_t # 1-dimensional arrays have no effect of transposing"
      ]
    },
    {
      "cell_type": "code",
      "execution_count": 20,
      "metadata": {
        "colab": {
          "base_uri": "https://localhost:8080/"
        },
        "id": "IVrHeK2-p_c5",
        "outputId": "fddd2408-7bab-4647-f836-dde81687f42a"
      },
      "outputs": [
        {
          "data": {
            "text/plain": [
              "(3,)"
            ]
          },
          "execution_count": 20,
          "metadata": {},
          "output_type": "execute_result"
        }
      ],
      "source": [
        "x_t.shape"
      ]
    },
    {
      "cell_type": "code",
      "execution_count": 21,
      "metadata": {
        "colab": {
          "base_uri": "https://localhost:8080/"
        },
        "id": "mqGp1QDGqHb6",
        "outputId": "cc7b07a1-2364-4944-9a0b-806a0d87fc59"
      },
      "outputs": [
        {
          "data": {
            "text/plain": [
              "array([[1, 2, 3]])"
            ]
          },
          "execution_count": 21,
          "metadata": {},
          "output_type": "execute_result"
        }
      ],
      "source": [
        "y = np.array([[1,2,3]])\n",
        "y"
      ]
    },
    {
      "cell_type": "code",
      "execution_count": 22,
      "metadata": {
        "colab": {
          "base_uri": "https://localhost:8080/"
        },
        "id": "-_6k0z8GqKm3",
        "outputId": "ee1b78a6-a803-46ee-9ec1-509efe180eb9"
      },
      "outputs": [
        {
          "data": {
            "text/plain": [
              "(1, 3)"
            ]
          },
          "execution_count": 22,
          "metadata": {},
          "output_type": "execute_result"
        }
      ],
      "source": [
        "y.shape"
      ]
    },
    {
      "cell_type": "code",
      "execution_count": 23,
      "metadata": {
        "colab": {
          "base_uri": "https://localhost:8080/"
        },
        "id": "zi_y5axsqLx0",
        "outputId": "1e4177af-3a48-4c61-849c-326237c1ce9d"
      },
      "outputs": [
        {
          "data": {
            "text/plain": [
              "array([[1],\n",
              "       [2],\n",
              "       [3]])"
            ]
          },
          "execution_count": 23,
          "metadata": {},
          "output_type": "execute_result"
        }
      ],
      "source": [
        "y_t = y.T\n",
        "y_t # but arrays with more than 1 dimension or matrix like arrays can change shape after transposing"
      ]
    },
    {
      "cell_type": "code",
      "execution_count": 24,
      "metadata": {
        "colab": {
          "base_uri": "https://localhost:8080/"
        },
        "id": "ikkc8z_GqVFz",
        "outputId": "a4425cdd-4284-4d95-a021-9226e53ec25f"
      },
      "outputs": [
        {
          "data": {
            "text/plain": [
              "(3, 1)"
            ]
          },
          "execution_count": 24,
          "metadata": {},
          "output_type": "execute_result"
        }
      ],
      "source": [
        "y_t.shape"
      ]
    },
    {
      "cell_type": "code",
      "execution_count": 25,
      "metadata": {
        "colab": {
          "base_uri": "https://localhost:8080/"
        },
        "id": "Laoy_yi3qxq6",
        "outputId": "ed78ef32-3a7a-4bd2-ed6d-aa96216af7be"
      },
      "outputs": [
        {
          "data": {
            "text/plain": [
              "array([[1, 2, 3]])"
            ]
          },
          "execution_count": 25,
          "metadata": {},
          "output_type": "execute_result"
        }
      ],
      "source": [
        "# transpose back\n",
        "y_t = y_t.T\n",
        "y_t"
      ]
    },
    {
      "cell_type": "code",
      "execution_count": 26,
      "metadata": {
        "colab": {
          "base_uri": "https://localhost:8080/"
        },
        "id": "tiC94tboq9pn",
        "outputId": "9f32f616-d2ee-4cf5-ffe2-a6c98703f5d3"
      },
      "outputs": [
        {
          "data": {
            "text/plain": [
              "(1, 3)"
            ]
          },
          "execution_count": 26,
          "metadata": {},
          "output_type": "execute_result"
        }
      ],
      "source": [
        "y_t.shape"
      ]
    },
    {
      "cell_type": "markdown",
      "metadata": {
        "id": "8coO_NicrlHh"
      },
      "source": [
        "# Zero vectors\n",
        "Have no effect if added on another vector"
      ]
    },
    {
      "cell_type": "code",
      "execution_count": 27,
      "metadata": {
        "colab": {
          "base_uri": "https://localhost:8080/"
        },
        "id": "8TKNnhBCrpFF",
        "outputId": "38fca5d9-363b-4e73-f02a-ddb7b2162cfa"
      },
      "outputs": [
        {
          "data": {
            "text/plain": [
              "array([0., 0., 0.])"
            ]
          },
          "execution_count": 27,
          "metadata": {},
          "output_type": "execute_result"
        }
      ],
      "source": [
        "z_v  = np.zeros(3)\n",
        "z_v"
      ]
    },
    {
      "cell_type": "code",
      "execution_count": 28,
      "metadata": {
        "colab": {
          "base_uri": "https://localhost:8080/"
        },
        "id": "aUg67oHKrxKx",
        "outputId": "9084f01c-aabc-41f0-e781-aa0cd15b516c"
      },
      "outputs": [
        {
          "data": {
            "text/plain": [
              "(3,)"
            ]
          },
          "execution_count": 28,
          "metadata": {},
          "output_type": "execute_result"
        }
      ],
      "source": [
        "z_v.shape"
      ]
    },
    {
      "cell_type": "markdown",
      "metadata": {
        "id": "n4cBlBTasSHi"
      },
      "source": [
        "# Vectors in PyTorch and Tensorflow"
      ]
    },
    {
      "cell_type": "code",
      "execution_count": 29,
      "metadata": {
        "colab": {
          "base_uri": "https://localhost:8080/"
        },
        "id": "-jhdiS58sYJg",
        "outputId": "8cdbdd14-2320-473d-f675-fa253df88e15"
      },
      "outputs": [
        {
          "data": {
            "text/plain": [
              "tensor([1, 2, 3])"
            ]
          },
          "execution_count": 29,
          "metadata": {},
          "output_type": "execute_result"
        }
      ],
      "source": [
        "x_pt = torch.tensor([1,2,3])\n",
        "x_pt"
      ]
    },
    {
      "cell_type": "code",
      "execution_count": 30,
      "metadata": {
        "colab": {
          "base_uri": "https://localhost:8080/"
        },
        "id": "_qZoC7yZsi1x",
        "outputId": "b511a377-40a0-4ee9-849b-7ef64c94ba3f"
      },
      "outputs": [
        {
          "data": {
            "text/plain": [
              "<tf.Variable 'Variable:0' shape=(3,) dtype=int32, numpy=array([1, 2, 3], dtype=int32)>"
            ]
          },
          "execution_count": 30,
          "metadata": {},
          "output_type": "execute_result"
        }
      ],
      "source": [
        "x_tf = tf.Variable([1,2,3])\n",
        "x_tf"
      ]
    },
    {
      "cell_type": "markdown",
      "metadata": {},
      "source": [
        "# Norms\n",
        "![Norms](./images/norms-1.png \"Norms\")"
      ]
    },
    {
      "cell_type": "markdown",
      "metadata": {},
      "source": [
        "## L2 Norms\n",
        "![L2 Norms](./images/norms-l2.png \"L2 Norms\")"
      ]
    },
    {
      "cell_type": "code",
      "execution_count": 32,
      "metadata": {},
      "outputs": [
        {
          "data": {
            "text/plain": [
              "array([1, 2, 3])"
            ]
          },
          "execution_count": 32,
          "metadata": {},
          "output_type": "execute_result"
        }
      ],
      "source": [
        "# L2 norm code demo\n",
        "x"
      ]
    },
    {
      "cell_type": "code",
      "execution_count": 33,
      "metadata": {},
      "outputs": [
        {
          "data": {
            "text/plain": [
              "3.7416573867739413"
            ]
          },
          "execution_count": 33,
          "metadata": {},
          "output_type": "execute_result"
        }
      ],
      "source": [
        "(1**2 + 2**2 + 3**2)**(1/2)"
      ]
    },
    {
      "cell_type": "code",
      "execution_count": 34,
      "metadata": {},
      "outputs": [
        {
          "data": {
            "text/plain": [
              "3.7416573867739413"
            ]
          },
          "execution_count": 34,
          "metadata": {},
          "output_type": "execute_result"
        }
      ],
      "source": [
        "np.linalg.norm(x)"
      ]
    },
    {
      "cell_type": "markdown",
      "metadata": {},
      "source": [
        "## Unit Vector\n",
        "![Unit Vector](./images/norms-unit-vector.png \"Unit Vector\")"
      ]
    },
    {
      "cell_type": "markdown",
      "metadata": {},
      "source": [
        "## l1 Norms\n",
        "![l1 Norms](./images/norms-l1.png \"l1 Norms\")"
      ]
    },
    {
      "cell_type": "code",
      "execution_count": 35,
      "metadata": {},
      "outputs": [
        {
          "data": {
            "text/plain": [
              "array([1, 2, 3])"
            ]
          },
          "execution_count": 35,
          "metadata": {},
          "output_type": "execute_result"
        }
      ],
      "source": [
        "x"
      ]
    },
    {
      "cell_type": "code",
      "execution_count": 36,
      "metadata": {},
      "outputs": [
        {
          "data": {
            "text/plain": [
              "6"
            ]
          },
          "execution_count": 36,
          "metadata": {},
          "output_type": "execute_result"
        }
      ],
      "source": [
        "np.abs(1) + np.abs(2) + np.abs(3)"
      ]
    },
    {
      "cell_type": "markdown",
      "metadata": {},
      "source": [
        "## Squared L2 Norms\n",
        "![Squared L2 Norms](./images/norms-l2-squared.png \"Squared L2 Norms\")"
      ]
    },
    {
      "cell_type": "code",
      "execution_count": 37,
      "metadata": {},
      "outputs": [
        {
          "data": {
            "text/plain": [
              "array([1, 2, 3])"
            ]
          },
          "execution_count": 37,
          "metadata": {},
          "output_type": "execute_result"
        }
      ],
      "source": [
        "x"
      ]
    },
    {
      "cell_type": "markdown",
      "metadata": {},
      "source": [
        "x <sup>T</sup> x"
      ]
    },
    {
      "cell_type": "code",
      "execution_count": 38,
      "metadata": {},
      "outputs": [
        {
          "data": {
            "text/plain": [
              "14"
            ]
          },
          "execution_count": 38,
          "metadata": {},
          "output_type": "execute_result"
        }
      ],
      "source": [
        "(1**2 + 2**2 + 3**2)"
      ]
    },
    {
      "cell_type": "code",
      "execution_count": 39,
      "metadata": {},
      "outputs": [
        {
          "data": {
            "text/plain": [
              "14"
            ]
          },
          "execution_count": 39,
          "metadata": {},
          "output_type": "execute_result"
        }
      ],
      "source": [
        "np.dot(x, x)"
      ]
    },
    {
      "cell_type": "markdown",
      "metadata": {},
      "source": [
        "## Max Norm\n",
        "![Max Norm](./images/norms-max.png \"Max Norm\")"
      ]
    },
    {
      "cell_type": "code",
      "execution_count": 40,
      "metadata": {},
      "outputs": [
        {
          "data": {
            "text/plain": [
              "array([1, 2, 3])"
            ]
          },
          "execution_count": 40,
          "metadata": {},
          "output_type": "execute_result"
        }
      ],
      "source": [
        "x"
      ]
    },
    {
      "cell_type": "code",
      "execution_count": 41,
      "metadata": {},
      "outputs": [
        {
          "data": {
            "text/plain": [
              "3"
            ]
          },
          "execution_count": 41,
          "metadata": {},
          "output_type": "execute_result"
        }
      ],
      "source": [
        "np.max([np.abs(1), np.abs(2), np.abs(3)])"
      ]
    },
    {
      "cell_type": "markdown",
      "metadata": {},
      "source": [
        "## Basis Vector\n",
        "![Basis Vector](./images/vector-basis.png \"Basis Vector\")"
      ]
    },
    {
      "cell_type": "markdown",
      "metadata": {},
      "source": [
        "## Orthogonal Vector\n",
        "![Orthogonal Vector](./images/vector-orthogonal.png \"Orthogonal Vector\")"
      ]
    },
    {
      "cell_type": "code",
      "execution_count": 44,
      "metadata": {},
      "outputs": [
        {
          "data": {
            "text/plain": [
              "array([1, 0])"
            ]
          },
          "execution_count": 44,
          "metadata": {},
          "output_type": "execute_result"
        }
      ],
      "source": [
        "# Orthogonal vector\n",
        "x_orthogonal = np.array([1,0])\n",
        "x_orthogonal"
      ]
    },
    {
      "cell_type": "code",
      "execution_count": 47,
      "metadata": {},
      "outputs": [
        {
          "data": {
            "text/plain": [
              "array([0, 1])"
            ]
          },
          "execution_count": 47,
          "metadata": {},
          "output_type": "execute_result"
        }
      ],
      "source": [
        "y_orthogonal = np.array([0,1])\n",
        "y_orthogonal"
      ]
    },
    {
      "cell_type": "code",
      "execution_count": 48,
      "metadata": {},
      "outputs": [
        {
          "data": {
            "text/plain": [
              "0"
            ]
          },
          "execution_count": 48,
          "metadata": {},
          "output_type": "execute_result"
        }
      ],
      "source": [
        "np.dot(x_orthogonal, y_orthogonal)"
      ]
    },
    {
      "cell_type": "markdown",
      "metadata": {},
      "source": [
        "## Matrices\n",
        "![Matrices](./images/matrices-1.png \"Matrices\")"
      ]
    },
    {
      "cell_type": "code",
      "execution_count": 3,
      "metadata": {},
      "outputs": [
        {
          "data": {
            "text/plain": [
              "array([[25,  2],\n",
              "       [ 5, 26],\n",
              "       [ 3,  7]])"
            ]
          },
          "execution_count": 3,
          "metadata": {},
          "output_type": "execute_result"
        }
      ],
      "source": [
        "x = np.array([[25,2], [5,26], [3,7]])\n",
        "x"
      ]
    },
    {
      "cell_type": "code",
      "execution_count": 4,
      "metadata": {},
      "outputs": [
        {
          "data": {
            "text/plain": [
              "(3, 2)"
            ]
          },
          "execution_count": 4,
          "metadata": {},
          "output_type": "execute_result"
        }
      ],
      "source": [
        "x.shape"
      ]
    },
    {
      "cell_type": "code",
      "execution_count": 5,
      "metadata": {},
      "outputs": [
        {
          "data": {
            "text/plain": [
              "6"
            ]
          },
          "execution_count": 5,
          "metadata": {},
          "output_type": "execute_result"
        }
      ],
      "source": [
        "x.size"
      ]
    },
    {
      "cell_type": "code",
      "execution_count": 6,
      "metadata": {},
      "outputs": [
        {
          "data": {
            "text/plain": [
              "array([25,  5,  3])"
            ]
          },
          "execution_count": 6,
          "metadata": {},
          "output_type": "execute_result"
        }
      ],
      "source": [
        "# select left column of the matrix\n",
        "x[:,0]"
      ]
    },
    {
      "cell_type": "code",
      "execution_count": 8,
      "metadata": {},
      "outputs": [
        {
          "data": {
            "text/plain": [
              "array([ 2, 26,  7])"
            ]
          },
          "execution_count": 8,
          "metadata": {},
          "output_type": "execute_result"
        }
      ],
      "source": [
        "# Select right column of the matrix\n",
        "x[:,1]"
      ]
    },
    {
      "cell_type": "code",
      "execution_count": 9,
      "metadata": {},
      "outputs": [
        {
          "data": {
            "text/plain": [
              "array([25,  2])"
            ]
          },
          "execution_count": 9,
          "metadata": {},
          "output_type": "execute_result"
        }
      ],
      "source": [
        "# Select first row of matrix\n",
        "x[0,:] "
      ]
    },
    {
      "cell_type": "code",
      "execution_count": 10,
      "metadata": {},
      "outputs": [
        {
          "data": {
            "text/plain": [
              "array([ 5, 26])"
            ]
          },
          "execution_count": 10,
          "metadata": {},
          "output_type": "execute_result"
        }
      ],
      "source": [
        "# Select middle row of matrix\n",
        "x[1,:] "
      ]
    },
    {
      "cell_type": "code",
      "execution_count": 11,
      "metadata": {},
      "outputs": [
        {
          "data": {
            "text/plain": [
              "array([[25,  2],\n",
              "       [ 5, 26]])"
            ]
          },
          "execution_count": 11,
          "metadata": {},
          "output_type": "execute_result"
        }
      ],
      "source": [
        "# Slice chunk of matrix\n",
        "x[0:2,0:2] "
      ]
    },
    {
      "cell_type": "markdown",
      "metadata": {},
      "source": [
        "### Matrices using pytorch"
      ]
    },
    {
      "cell_type": "code",
      "execution_count": 31,
      "metadata": {},
      "outputs": [
        {
          "data": {
            "text/plain": [
              "tensor([[ 1,  2,  3,  4],\n",
              "        [ 4,  5,  6,  7],\n",
              "        [ 7,  8,  9, 10],\n",
              "        [10, 11, 12, 14]])"
            ]
          },
          "execution_count": 31,
          "metadata": {},
          "output_type": "execute_result"
        }
      ],
      "source": [
        "x_torch = torch.tensor([[1,2,3,4], [4,5,6,7], [7,8,9,10], [10,11,12,14]])\n",
        "x_torch"
      ]
    },
    {
      "cell_type": "code",
      "execution_count": 32,
      "metadata": {},
      "outputs": [
        {
          "data": {
            "text/plain": [
              "torch.Size([4, 4])"
            ]
          },
          "execution_count": 32,
          "metadata": {},
          "output_type": "execute_result"
        }
      ],
      "source": [
        "x_torch.shape"
      ]
    },
    {
      "cell_type": "code",
      "execution_count": 33,
      "metadata": {},
      "outputs": [
        {
          "data": {
            "text/plain": [
              "torch.Size([4, 4])"
            ]
          },
          "execution_count": 33,
          "metadata": {},
          "output_type": "execute_result"
        }
      ],
      "source": [
        "x_torch.size()"
      ]
    },
    {
      "cell_type": "code",
      "execution_count": 34,
      "metadata": {},
      "outputs": [
        {
          "data": {
            "text/plain": [
              "tensor([[5, 6],\n",
              "        [8, 9]])"
            ]
          },
          "execution_count": 34,
          "metadata": {},
          "output_type": "execute_result"
        }
      ],
      "source": [
        "# another slicing example\n",
        "x_torch[1:3, 1:3]"
      ]
    },
    {
      "cell_type": "markdown",
      "metadata": {},
      "source": [
        "### Matrices using tensorflow"
      ]
    },
    {
      "cell_type": "code",
      "execution_count": 4,
      "metadata": {},
      "outputs": [
        {
          "data": {
            "text/plain": [
              "<tf.Variable 'Variable:0' shape=(3, 2) dtype=int32, numpy=\n",
              "array([[1, 2],\n",
              "       [2, 3],\n",
              "       [3, 4]], dtype=int32)>"
            ]
          },
          "execution_count": 4,
          "metadata": {},
          "output_type": "execute_result"
        }
      ],
      "source": [
        "x_tf = tf.Variable([[1,2], [2,3], [3,4]])\n",
        "x_tf"
      ]
    },
    {
      "cell_type": "markdown",
      "metadata": {},
      "source": [
        "## Generic tensors with higher dimensions\n",
        "![Generic tensors with higher dimensions](./images/generic-tensors.png \"Generic tensors with higher dimensions\")\n",
        "![Higher-rank tensors](./images/generic-tensors-2.png \"Higher-rank tensors\")"
      ]
    },
    {
      "cell_type": "code",
      "execution_count": 5,
      "metadata": {},
      "outputs": [],
      "source": [
        "image_pt = np.zeros([32, 28, 28, 3])\n",
        "image_pt"
      ]
    },
    {
      "cell_type": "code",
      "execution_count": 8,
      "metadata": {},
      "outputs": [],
      "source": [
        "image_tf = tf.zeros([32, 28, 28, 3])\n",
        "image_tf"
      ]
    },
    {
      "cell_type": "markdown",
      "metadata": {},
      "source": [
        "## Exercises"
      ]
    },
    {
      "cell_type": "markdown",
      "metadata": {},
      "source": [
        "![Chapter 1 - Exercise 1](./images/chapter-1-excercise-1.png \"Chapter 1 - Exercise 1\")"
      ]
    },
    {
      "cell_type": "code",
      "execution_count": 15,
      "metadata": {},
      "outputs": [
        {
          "data": {
            "text/plain": [
              "array([[ 25],\n",
              "       [  2],\n",
              "       [ -3],\n",
              "       [-23]])"
            ]
          },
          "execution_count": 15,
          "metadata": {},
          "output_type": "execute_result"
        }
      ],
      "source": [
        "ex1_v1 = np.array([[25], [2], [-3], [-23]])\n",
        "ex1_v1"
      ]
    },
    {
      "cell_type": "code",
      "execution_count": 16,
      "metadata": {},
      "outputs": [
        {
          "data": {
            "text/plain": [
              "(4, 1)"
            ]
          },
          "execution_count": 16,
          "metadata": {},
          "output_type": "execute_result"
        }
      ],
      "source": [
        "ex1_v1.shape"
      ]
    },
    {
      "cell_type": "code",
      "execution_count": 17,
      "metadata": {},
      "outputs": [
        {
          "data": {
            "text/plain": [
              "array([[ 25,   2,  -3, -23]])"
            ]
          },
          "execution_count": 17,
          "metadata": {},
          "output_type": "execute_result"
        }
      ],
      "source": [
        "# Solution\n",
        "ex1_v1_t = ex1_v1.T\n",
        "ex1_v1_t"
      ]
    },
    {
      "cell_type": "code",
      "execution_count": 18,
      "metadata": {},
      "outputs": [
        {
          "data": {
            "text/plain": [
              "(1, 4)"
            ]
          },
          "execution_count": 18,
          "metadata": {},
          "output_type": "execute_result"
        }
      ],
      "source": [
        "ex1_v1_t.shape"
      ]
    },
    {
      "cell_type": "markdown",
      "metadata": {},
      "source": [
        "![Chapter 1 - Exercise 2](./images/chapter-1-excercise-2.png \"Chapter 1 - Exercise 2\")"
      ]
    },
    {
      "cell_type": "code",
      "execution_count": 20,
      "metadata": {},
      "outputs": [
        {
          "data": {
            "text/plain": [
              "array([[ 42,   4,   7,  99],\n",
              "       [-99,  -3,  17,  22]])"
            ]
          },
          "execution_count": 20,
          "metadata": {},
          "output_type": "execute_result"
        }
      ],
      "source": [
        "# Solution\n",
        "ex1_v2 = np.array([[42,4,7,99], [-99, -3, 17, 22]])\n",
        "ex1_v2"
      ]
    },
    {
      "cell_type": "code",
      "execution_count": 21,
      "metadata": {},
      "outputs": [
        {
          "data": {
            "text/plain": [
              "(2, 4)"
            ]
          },
          "execution_count": 21,
          "metadata": {},
          "output_type": "execute_result"
        }
      ],
      "source": [
        "ex1_v2.shape"
      ]
    }
  ],
  "metadata": {
    "colab": {
      "authorship_tag": "ABX9TyPVGBL7t+T+Z2YxyllfFLNf",
      "include_colab_link": true,
      "provenance": []
    },
    "kernelspec": {
      "display_name": "Python 3.10.6 64-bit",
      "language": "python",
      "name": "python3"
    },
    "language_info": {
      "codemirror_mode": {
        "name": "ipython",
        "version": 3
      },
      "file_extension": ".py",
      "mimetype": "text/x-python",
      "name": "python",
      "nbconvert_exporter": "python",
      "pygments_lexer": "ipython3",
      "version": "3.10.6"
    },
    "vscode": {
      "interpreter": {
        "hash": "916dbcbb3f70747c44a77c7bcd40155683ae19c65e1c03b4aa3499c5328201f1"
      }
    }
  },
  "nbformat": 4,
  "nbformat_minor": 0
}
