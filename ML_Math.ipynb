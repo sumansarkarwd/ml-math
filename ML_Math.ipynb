{
  "nbformat": 4,
  "nbformat_minor": 0,
  "metadata": {
    "colab": {
      "provenance": [],
      "authorship_tag": "ABX9TyMC5DjwzcceFZRDn7LA4gcz",
      "include_colab_link": true
    },
    "kernelspec": {
      "name": "python3",
      "display_name": "Python 3"
    },
    "language_info": {
      "name": "python"
    }
  },
  "cells": [
    {
      "cell_type": "markdown",
      "metadata": {
        "id": "view-in-github",
        "colab_type": "text"
      },
      "source": [
        "<a href=\"https://colab.research.google.com/github/sumansarkarwd/ml-math/blob/main/ML_Math.ipynb\" target=\"_parent\"><img src=\"https://colab.research.google.com/assets/colab-badge.svg\" alt=\"Open In Colab\"/></a>"
      ]
    },
    {
      "cell_type": "markdown",
      "source": [
        "# Tensors\n",
        "1. Scaler -> x -> 0 dimension -> Magnitude only\n",
        "2. Vector -> [x1, x2, x3] -> 1 dimension -> 0\n",
        "3. Matrix -> [[x1, x2], [x3, x4]] -> 2 dimensions -> 0\n",
        "4. 3-tensor -> 3 dimensions -> 3d table\n",
        "5. n-tensors -> n dimensions -> higher dimensions "
      ],
      "metadata": {
        "id": "HWPMAoLhfINc"
      }
    },
    {
      "cell_type": "code",
      "source": [],
      "metadata": {
        "id": "uLFwlxRJfNJ4"
      },
      "execution_count": null,
      "outputs": []
    }
  ]
}